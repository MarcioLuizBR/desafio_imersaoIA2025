{
  "nbformat": 4,
  "nbformat_minor": 0,
  "metadata": {
    "colab": {
      "provenance": [],
      "include_colab_link": true
    },
    "kernelspec": {
      "name": "python3",
      "display_name": "Python 3"
    },
    "language_info": {
      "name": "python"
    }
  },
  "cells": [
    {
      "cell_type": "markdown",
      "metadata": {
        "id": "view-in-github",
        "colab_type": "text"
      },
      "source": [
        "<a href=\"https://colab.research.google.com/github/MarcioLuizBR/desafio_imersaoIA2025/blob/main/HELPTEA.ipynb\" target=\"_parent\"><img src=\"https://colab.research.google.com/assets/colab-badge.svg\" alt=\"Open In Colab\"/></a>"
      ]
    },
    {
      "cell_type": "markdown",
      "source": [
        "# Finalização da Imersão IA 3ª Edição da Alura com Google Gemini\n",
        "\n",
        "\n",
        "### Projeto \"HELPTEA\" (Ajuda para o Transtornos do Espectro Autista)\n",
        "\n",
        "Desafio de desenvolvimento de uma aplicação pratica dos conceitos apresentados na imersão Alura/Google Gemini"
      ],
      "metadata": {
        "id": "2cb43JXPJBxF"
      }
    },
    {
      "cell_type": "markdown",
      "source": [
        "#### instalação dos pacotes essenciais"
      ],
      "metadata": {
        "id": "HvHU1FVZLXfW"
      }
    },
    {
      "cell_type": "code",
      "source": [
        "!pip -q install google-generativeai\n",
        "!pip -q install google-adk"
      ],
      "metadata": {
        "id": "UCCbECexLk_h"
      },
      "execution_count": 44,
      "outputs": []
    },
    {
      "cell_type": "code",
      "source": [
        "import os, textwrap, warnings\n",
        "import requests # Para fazer requisições HTTP\n",
        "from google.colab import userdata\n",
        "from google import generativeai as genai\n",
        "from datetime import date\n",
        "from IPython.display import HTML, Markdown, display\n",
        "from google.adk.agents import Agent\n",
        "from google.adk.runners import Runner\n",
        "from google.adk.sessions import InMemorySessionService\n",
        "from google.adk.tools import google_search\n",
        "from google.genai import types  # Para criar conteúdos (Content e Part)\n",
        "\n",
        "\n",
        "warnings.filterwarnings(\"ignore\")\n",
        "\n",
        "os.environ[\"GOOGLE_API_KEY\"] = userdata.get('GOOGLE_API_KEY')\n",
        "MODEL_ID = \"gemini-2.0-flash\""
      ],
      "metadata": {
        "id": "NfCqHo1tLk8P"
      },
      "execution_count": 45,
      "outputs": []
    },
    {
      "cell_type": "code",
      "source": [
        "from google.generativeai import GenerativeModel\n",
        "modelo = GenerativeModel(\"gemini-2.0-flash\")\n",
        "\n",
        "agente_assistenteSocial = modelo.start_chat(history=[])\n",
        "agente_juridico = modelo.start_chat(history=[])\n",
        "agente_educacional = modelo.start_chat(history=[])\n",
        "agente_nutricionista = modelo.start_chat(history=[])\n",
        "agente_psicologo = modelo.start_chat(history=[])\n",
        "agente_redator = modelo.start_chat(history=[])\n"
      ],
      "metadata": {
        "id": "OgXiCsxsk925"
      },
      "execution_count": 46,
      "outputs": []
    },
    {
      "cell_type": "markdown",
      "source": [
        "#### Função auxiliar para exibir texto formatado em Markdown no Colab"
      ],
      "metadata": {
        "id": "WIUHcztnL6wX"
      }
    },
    {
      "cell_type": "code",
      "source": [
        "def to_markdown(text):\n",
        "    \"\"\"Exibe Markdown bonito no Colab.\"\"\"\n",
        "    text = text.replace('•', '  *')\n",
        "    display(Markdown(textwrap.indent(text, \"> \", lambda _: True)))"
      ],
      "metadata": {
        "id": "8dosiodaxfFR"
      },
      "execution_count": 47,
      "outputs": []
    },
    {
      "cell_type": "markdown",
      "source": [
        "#### Função auxiliar que envia uma mensagem para um agente via Runner e retorna a resposta final"
      ],
      "metadata": {
        "id": "n9hiwEoDMDf1"
      }
    },
    {
      "cell_type": "code",
      "source": [
        "def call_agent(agent: Agent, user_message: str, user_id=\"user1\", session_id=\"s1\"):\n",
        "    \"\"\"Roda o agente via Runner e devolve a resposta final (string).\"\"\"\n",
        "    sess_service = InMemorySessionService()\n",
        "    sess_service.create_session(app_name=agent.name, user_id=user_id, session_id=session_id)\n",
        "    runner = Runner(agent=agent, app_name=agent.name, session_service=sess_service)\n",
        "    content = types.Content(role=\"user\", parts=[types.Part(text=user_message)])\n",
        "\n",
        "    final_text = \"\"\n",
        "    for ev in runner.run(user_id=user_id, session_id=session_id, new_message=content):\n",
        "        if ev.is_final_response():\n",
        "            for p in ev.content.parts:\n",
        "                if p.text:\n",
        "                    final_text += p.text + \"\\n\"\n",
        "    return final_text.strip()"
      ],
      "metadata": {
        "id": "_xP4lWhsS5ko"
      },
      "execution_count": 48,
      "outputs": []
    },
    {
      "cell_type": "markdown",
      "source": [
        "#### Função que constrói TODOS os agentes"
      ],
      "metadata": {
        "id": "L226V-HwMMa0"
      }
    },
    {
      "cell_type": "code",
      "source": [
        "# -------------------------------------------\n",
        "# 🚀 DEFINIÇÃO DOS AGENTES (sem localizador)\n",
        "# -------------------------------------------\n",
        "def build_agents() -> dict:\n",
        "    hoje = date.today().strftime(\"%d/%m/%Y\")\n",
        "\n",
        "    return {\n",
        "        \"assistente_social\": Agent(\n",
        "            name=\"assistente_social\",\n",
        "            model=MODEL_ID,\n",
        "            description=\"Orientação prática sobre benefícios sociais, serviços públicos e ONGs.\",\n",
        "            instruction=f\"\"\"\n",
        "                Você é Assistente Social especializado em TEA.\n",
        "                • Fale de forma acolhedora e objetiva.\n",
        "                • Traga exemplos de benefícios (BPC, passe livre, etc.).\n",
        "                • Data de referência: {hoje}.\n",
        "            \"\"\",\n",
        "            tools=[google_search]\n",
        "        ),\n",
        "\n",
        "        \"juridico\": Agent(\n",
        "            name=\"juridico\",\n",
        "            model=MODEL_ID,\n",
        "            description=\"Direitos legais da pessoa autista.\",\n",
        "            instruction=f\"\"\"\n",
        "                Você é advogado especializado em TEA.\n",
        "                • Cite leis (12.764/2012, LBI 13.146/2015) quando útil.\n",
        "                • Seja prático e sem jargões excessivos.\n",
        "                • Data de referência: {hoje}.\n",
        "            \"\"\",\n",
        "            tools=[google_search]\n",
        "        ),\n",
        "\n",
        "        \"educacional\": Agent(\n",
        "            name=\"educacional\",\n",
        "            model=MODEL_ID,\n",
        "            description=\"Estratégias pedagógicas inclusivas.\",\n",
        "            instruction=\"\"\"\n",
        "                Você é pedagogo especialista em educação inclusiva para TEA.\n",
        "                • Sugira adaptações simples, rotinas visuais, TEACCH/PECS.\n",
        "            \"\"\",\n",
        "            tools=[google_search]\n",
        "        ),\n",
        "\n",
        "        \"nutricionista\": Agent(\n",
        "            name=\"nutricionista\",\n",
        "            model=MODEL_ID,\n",
        "            description=\"Recomendações sobre seletividade alimentar e hábitos saudáveis.\",\n",
        "            instruction=\"\"\"\n",
        "                Você é nutricionista especializado em TEA.\n",
        "                • Dê dicas práticas para ampliar repertório alimentar.\n",
        "                • Oriente sempre consultar profissional presencial.\n",
        "            \"\"\",\n",
        "            tools=[google_search]\n",
        "        ),\n",
        "\n",
        "        \"psicologo\": Agent(\n",
        "            name=\"psicologo\",\n",
        "            model=MODEL_ID,\n",
        "            description=\"Apoio emocional e manejo comportamental.\",\n",
        "            instruction=\"\"\"\n",
        "                Você é psicólogo infantil com foco em TEA.\n",
        "                • Traga estratégias breves de regulação emocional e reforço positivo.\n",
        "            \"\"\"\n",
        "        ),\n",
        "\n",
        "        \"redator_final\": Agent(\n",
        "            name=\"redator_final\",\n",
        "            model=MODEL_ID,\n",
        "            description=\"Resume de forma clara, empática e concisa.\",\n",
        "            instruction=\"\"\"\n",
        "                Recebe as respostas dos especialistas e:\n",
        "                • Cria um texto final coeso de no máx. 4 parágrafos curtos.\n",
        "                • Lista (em tópicos) 3 referências ou links úteis ao final.\n",
        "            \"\"\"\n",
        "        ),\n",
        "    }\n",
        "\n",
        "agentes = build_agents()   # cria todos\n",
        "\n"
      ],
      "metadata": {
        "id": "o8bqIfi_DyH8"
      },
      "execution_count": null,
      "outputs": []
    },
    {
      "cell_type": "code",
      "source": [
        "# -------------------------------------------\n",
        "# 🛠️ FUNÇÃO PRINCIPAL\n",
        "# -------------------------------------------\n",
        "def gerar_resposta(topic: str) -> str:\n",
        "    \"\"\"Dispara os 5 especialistas e depois o redator.\"\"\"\n",
        "    especialistas = [\"assistente_social\", \"juridico\",\n",
        "                     \"educacional\", \"nutricionista\", \"psicologo\"]\n",
        "\n",
        "    respostas = []\n",
        "    for chave in especialistas:\n",
        "        prompt = f\"Tema: {topic}\\nElabore orientação dentro da sua especialidade.\"\n",
        "        respostas.append(f\"{chave}:\\n\" + call_agent(agentes[chave], prompt))\n",
        "\n",
        "    # Junta tudo para o redator\n",
        "    material = \"\\n\\n\".join(respostas)\n",
        "    resumo = call_agent(agentes[\"redator_final\"], material)\n",
        "    return resumo"
      ],
      "metadata": {
        "id": "YWrKw9QL9GZQ"
      },
      "execution_count": null,
      "outputs": []
    },
    {
      "cell_type": "code",
      "source": [
        "# -------------------------------------------\n",
        "# 💬 FLUXO DE INTERAÇÃO\n",
        "# -------------------------------------------\n",
        "tema_usuario = input(\"Digite o tema que deseja saber (ex.: alimentação seletiva): \").strip()\n",
        "\n",
        "if tema_usuario:\n",
        "    resultado = gerar_resposta(tema_usuario)\n",
        "    to_markdown(resultado)\n",
        "else:\n",
        "    print(\"⚠️  Você precisa digitar um tema.\")"
      ],
      "metadata": {
        "id": "oZQk1DUE9BxR"
      },
      "execution_count": null,
      "outputs": []
    }
  ]
}